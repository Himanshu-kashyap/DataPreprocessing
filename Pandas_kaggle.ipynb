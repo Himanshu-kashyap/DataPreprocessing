{
  "nbformat": 4,
  "nbformat_minor": 0,
  "metadata": {
    "colab": {
      "name": "Pandas kaggle.ipynb",
      "version": "0.3.2",
      "provenance": []
    },
    "kernelspec": {
      "name": "python3",
      "display_name": "Python 3"
    }
  },
  "cells": [
    {
      "metadata": {
        "id": "zqUZj_Y38VC-",
        "colab_type": "code",
        "colab": {}
      },
      "cell_type": "code",
      "source": [
        "import pandas as pd"
      ],
      "execution_count": 0,
      "outputs": []
    },
    {
      "metadata": {
        "id": "ZyyvkWs298dc",
        "colab_type": "text"
      },
      "cell_type": "markdown",
      "source": [
        "## creating a dataframe"
      ]
    },
    {
      "metadata": {
        "id": "c8OGGNod97gW",
        "colab_type": "code",
        "colab": {
          "base_uri": "https://localhost:8080/",
          "height": 85
        },
        "outputId": "f8c12812-b4e0-4724-c98a-0a2bbd3e68a2"
      },
      "cell_type": "code",
      "source": [
        "x = pd.DataFrame([[1,2]],columns = [\"apples\",\"oranges\"])\n",
        "print(x)\n",
        "x_ = pd.DataFrame({\"neon\":\"john\",\"lowl\":\"me\"},index = [0])\n",
        "print(x_)"
      ],
      "execution_count": 14,
      "outputs": [
        {
          "output_type": "stream",
          "text": [
            "   apples  oranges\n",
            "0       1        2\n",
            "   neon lowl\n",
            "0  john   me\n"
          ],
          "name": "stdout"
        }
      ]
    },
    {
      "metadata": {
        "id": "_KXva_9j-Ozh",
        "colab_type": "text"
      },
      "cell_type": "markdown",
      "source": [
        "### with index"
      ]
    },
    {
      "metadata": {
        "id": "zMbj5uXT-Gq6",
        "colab_type": "code",
        "colab": {
          "base_uri": "https://localhost:8080/",
          "height": 111
        },
        "outputId": "c10f2928-b94e-4a98-d73a-ee5ea9d6e93f"
      },
      "cell_type": "code",
      "source": [
        "x2 = pd.DataFrame([[1,2],[3,4]],columns = [\"apples\",\"oranges\"],index = [2015,2016])\n",
        "x2"
      ],
      "execution_count": 5,
      "outputs": [
        {
          "output_type": "execute_result",
          "data": {
            "text/html": [
              "<div>\n",
              "<style scoped>\n",
              "    .dataframe tbody tr th:only-of-type {\n",
              "        vertical-align: middle;\n",
              "    }\n",
              "\n",
              "    .dataframe tbody tr th {\n",
              "        vertical-align: top;\n",
              "    }\n",
              "\n",
              "    .dataframe thead th {\n",
              "        text-align: right;\n",
              "    }\n",
              "</style>\n",
              "<table border=\"1\" class=\"dataframe\">\n",
              "  <thead>\n",
              "    <tr style=\"text-align: right;\">\n",
              "      <th></th>\n",
              "      <th>apples</th>\n",
              "      <th>oranges</th>\n",
              "    </tr>\n",
              "  </thead>\n",
              "  <tbody>\n",
              "    <tr>\n",
              "      <th>2015</th>\n",
              "      <td>1</td>\n",
              "      <td>2</td>\n",
              "    </tr>\n",
              "    <tr>\n",
              "      <th>2016</th>\n",
              "      <td>3</td>\n",
              "      <td>4</td>\n",
              "    </tr>\n",
              "  </tbody>\n",
              "</table>\n",
              "</div>"
            ],
            "text/plain": [
              "      apples  oranges\n",
              "2015       1        2\n",
              "2016       3        4"
            ]
          },
          "metadata": {
            "tags": []
          },
          "execution_count": 5
        }
      ]
    },
    {
      "metadata": {
        "id": "DxXG1H7W-rMi",
        "colab_type": "text"
      },
      "cell_type": "markdown",
      "source": [
        "## making an pandas series"
      ]
    },
    {
      "metadata": {
        "id": "QLPQlEXh-ZVx",
        "colab_type": "code",
        "colab": {
          "base_uri": "https://localhost:8080/",
          "height": 136
        },
        "outputId": "ab6da797-b38a-44f8-d622-d868ae278e1a"
      },
      "cell_type": "code",
      "source": [
        "indices = [1,2,3,4,5,6]\n",
        "values = [\"a\",\"b\",\"c\",\"d\",\"e\",\"f\"]\n",
        "\n",
        "series1 = pd.Series(values,index = indices,name = \"Series1\")\n",
        "series1"
      ],
      "execution_count": 8,
      "outputs": [
        {
          "output_type": "execute_result",
          "data": {
            "text/plain": [
              "1    a\n",
              "2    b\n",
              "3    c\n",
              "4    d\n",
              "5    e\n",
              "6    f\n",
              "Name: Series1, dtype: object"
            ]
          },
          "metadata": {
            "tags": []
          },
          "execution_count": 8
        }
      ]
    },
    {
      "metadata": {
        "id": "wcPt1nzV_E1F",
        "colab_type": "code",
        "colab": {}
      },
      "cell_type": "code",
      "source": [
        ""
      ],
      "execution_count": 0,
      "outputs": []
    }
  ]
}